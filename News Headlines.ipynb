{
 "cells": [
  {
   "cell_type": "code",
   "execution_count": 1,
   "id": "2dcfb5e7",
   "metadata": {},
   "outputs": [],
   "source": [
    "import datetime as dt\n",
    "from bs4 import BeautifulSoup\n",
    "import pandas as pd\n",
    "import requests "
   ]
  },
  {
   "cell_type": "code",
   "execution_count": 2,
   "id": "2c87c984",
   "metadata": {},
   "outputs": [],
   "source": [
    "url_monitor = \"https://www.monitor.co.ug/\""
   ]
  },
  {
   "cell_type": "code",
   "execution_count": 3,
   "id": "95cbe003",
   "metadata": {},
   "outputs": [],
   "source": [
    "html_monitor = requests.get(url_monitor).text"
   ]
  },
  {
   "cell_type": "code",
   "execution_count": 4,
   "id": "98984cb4",
   "metadata": {},
   "outputs": [],
   "source": [
    "soup_monitor = BeautifulSoup(html_monitor, \"html.parser\")"
   ]
  },
  {
   "cell_type": "code",
   "execution_count": 5,
   "id": "6d2e44dd",
   "metadata": {},
   "outputs": [],
   "source": [
    "monitor_headline = \"Monitor Headlines - \" + (soup_monitor.find_all(\"h3\")[1].text.strip())"
   ]
  },
  {
   "cell_type": "code",
   "execution_count": 6,
   "id": "7909b5c4",
   "metadata": {},
   "outputs": [],
   "source": [
    "url_cnbc = \"https://www.cnbc.com/world/?region=world\""
   ]
  },
  {
   "cell_type": "code",
   "execution_count": 7,
   "id": "6743ae0c",
   "metadata": {},
   "outputs": [],
   "source": [
    "html_cnbc = requests.get(url_cnbc).text"
   ]
  },
  {
   "cell_type": "code",
   "execution_count": 8,
   "id": "164b88f7",
   "metadata": {},
   "outputs": [],
   "source": [
    "soup_cnbc = BeautifulSoup(html_cnbc, \"html.parser\")"
   ]
  },
  {
   "cell_type": "code",
   "execution_count": 9,
   "id": "86805ac6",
   "metadata": {},
   "outputs": [],
   "source": [
    "cnbc_headline = \"CNBC Headlines - \" + (soup_cnbc.find_all(\"h2\")[0].text)"
   ]
  },
  {
   "cell_type": "code",
   "execution_count": 10,
   "id": "2514e48e",
   "metadata": {},
   "outputs": [],
   "source": [
    "url_ft  = \"https://www.ft.com/\""
   ]
  },
  {
   "cell_type": "code",
   "execution_count": 11,
   "id": "76774db5",
   "metadata": {},
   "outputs": [],
   "source": [
    "html_ft = requests.get(url_ft).text"
   ]
  },
  {
   "cell_type": "code",
   "execution_count": 12,
   "id": "56784fc6",
   "metadata": {},
   "outputs": [],
   "source": [
    "soup_ft = BeautifulSoup(html_ft, \"html.parser\")"
   ]
  },
  {
   "cell_type": "code",
   "execution_count": 13,
   "id": "b0ed89fe",
   "metadata": {},
   "outputs": [],
   "source": [
    "ft_headlines = \"FT HEADLINES - \"+ (soup_ft.find_all(\"span\")[10].text)"
   ]
  },
  {
   "cell_type": "code",
   "execution_count": 14,
   "id": "6def3298",
   "metadata": {},
   "outputs": [],
   "source": [
    "url_dm = \"https://www.dailymail.co.uk/home/index.html\""
   ]
  },
  {
   "cell_type": "code",
   "execution_count": 15,
   "id": "1ba51306",
   "metadata": {},
   "outputs": [],
   "source": [
    "html_dm = requests.get(url_dm).text"
   ]
  },
  {
   "cell_type": "code",
   "execution_count": 16,
   "id": "fa81ac24",
   "metadata": {},
   "outputs": [],
   "source": [
    "soup_dm = BeautifulSoup(html_dm, \"html.parser\")"
   ]
  },
  {
   "cell_type": "code",
   "execution_count": 17,
   "id": "774a96ab",
   "metadata": {},
   "outputs": [],
   "source": [
    "dm_headlines = \"DM headlines - \" + (soup_dm.find_all(\"h2\")[0].text.strip())"
   ]
  },
  {
   "cell_type": "code",
   "execution_count": 18,
   "id": "7044cf20",
   "metadata": {},
   "outputs": [
    {
     "data": {
      "text/plain": [
       "'FT HEADLINES - G7 to explore caps on energy prices to curb Russian revenues '"
      ]
     },
     "execution_count": 18,
     "metadata": {},
     "output_type": "execute_result"
    }
   ],
   "source": [
    "ft_headlines"
   ]
  },
  {
   "cell_type": "code",
   "execution_count": 19,
   "id": "b8c6581e",
   "metadata": {},
   "outputs": [],
   "source": [
    "url_bloomberg = \"https://www.bloomberg.com/\""
   ]
  },
  {
   "cell_type": "code",
   "execution_count": 20,
   "id": "ebff2826",
   "metadata": {},
   "outputs": [],
   "source": [
    "html_bloomberg = requests.get(url_bloomberg).text"
   ]
  },
  {
   "cell_type": "code",
   "execution_count": 21,
   "id": "4169d68a",
   "metadata": {},
   "outputs": [],
   "source": [
    "soup_bloomberg = BeautifulSoup(html_bloomberg, \"html.parser\")"
   ]
  },
  {
   "cell_type": "code",
   "execution_count": 22,
   "id": "53e412a3",
   "metadata": {},
   "outputs": [],
   "source": [
    "url_marketwatch = \"https://www.marketwatch.com/\""
   ]
  },
  {
   "cell_type": "code",
   "execution_count": 23,
   "id": "7b173972",
   "metadata": {},
   "outputs": [],
   "source": [
    "html_marketwatch = requests.get(url_marketwatch).text"
   ]
  },
  {
   "cell_type": "code",
   "execution_count": 24,
   "id": "d55cf782",
   "metadata": {},
   "outputs": [],
   "source": [
    "soup_marketwatch = BeautifulSoup(html_marketwatch, \"html.parser\")"
   ]
  },
  {
   "cell_type": "code",
   "execution_count": 25,
   "id": "08eee177",
   "metadata": {},
   "outputs": [],
   "source": [
    "marketwatch_headlines =\"MARKETWATCH Headlines - \" + (soup_marketwatch.find_all(\"h3\")[5].find(\"a\").text.strip())"
   ]
  },
  {
   "cell_type": "code",
   "execution_count": 26,
   "id": "1b841cda",
   "metadata": {},
   "outputs": [
    {
     "data": {
      "text/plain": [
       "'MARKETWATCH Headlines - FTX CEO Sam Bankman-Fried says ‘no active M&A conversations with Robinhood’'"
      ]
     },
     "execution_count": 26,
     "metadata": {},
     "output_type": "execute_result"
    }
   ],
   "source": [
    "marketwatch_headlines"
   ]
  },
  {
   "cell_type": "code",
   "execution_count": 27,
   "id": "10af3325",
   "metadata": {},
   "outputs": [
    {
     "data": {
      "text/plain": [
       "(\"CNBC Headlines - Lagarde plays down recession risks, says ECB is ready to 'move faster' on rates if needed\",\n",
       " 'FT HEADLINES - G7 to explore caps on energy prices to curb Russian revenues ',\n",
       " 'MARKETWATCH Headlines - FTX CEO Sam Bankman-Fried says ‘no active M&A conversations with Robinhood’',\n",
       " 'Monitor Headlines - PRIME\\n\\n\\nHow Ugandans lose millions in mobile money fraud',\n",
       " \"DM headlines - Boris's girl makes her G7 debut! Proud mother Carrie Johnson shares behind-the-scenes snap of six-month-old Romy in Germany - and a glimpse at a laid-back cocktail hour with Brigitte Macron\")"
      ]
     },
     "execution_count": 27,
     "metadata": {},
     "output_type": "execute_result"
    }
   ],
   "source": [
    "cnbc_headline,ft_headlines, marketwatch_headlines, monitor_headline,  dm_headlines"
   ]
  },
  {
   "cell_type": "code",
   "execution_count": null,
   "id": "928936dc-7f06-4c3d-9f50-95e85d0d540b",
   "metadata": {},
   "outputs": [],
   "source": []
  },
  {
   "cell_type": "code",
   "execution_count": null,
   "id": "4e9a9c34-2550-48c9-b841-90a0a889ac3a",
   "metadata": {},
   "outputs": [],
   "source": []
  },
  {
   "cell_type": "code",
   "execution_count": null,
   "id": "95f83781-2339-411b-9391-a0bdbed9cf3a",
   "metadata": {},
   "outputs": [],
   "source": []
  },
  {
   "cell_type": "code",
   "execution_count": null,
   "id": "446adb2c-d841-4c53-a275-07979c093cf6",
   "metadata": {},
   "outputs": [],
   "source": []
  },
  {
   "cell_type": "code",
   "execution_count": null,
   "id": "19d91324-b1a6-44d8-ae59-e274c5deb1bd",
   "metadata": {},
   "outputs": [],
   "source": []
  },
  {
   "cell_type": "code",
   "execution_count": null,
   "id": "5c20ec42-5877-4985-bd76-2bfd0cf1b5fa",
   "metadata": {},
   "outputs": [],
   "source": []
  },
  {
   "cell_type": "code",
   "execution_count": null,
   "id": "db0c4f8c-391e-4d3e-84ba-20a513bbf330",
   "metadata": {},
   "outputs": [],
   "source": []
  },
  {
   "cell_type": "code",
   "execution_count": null,
   "id": "dc4f5fbd-0d17-4c50-8d95-38f1cb30bfb1",
   "metadata": {},
   "outputs": [],
   "source": []
  },
  {
   "cell_type": "code",
   "execution_count": null,
   "id": "cc09e2ea-f488-4dd4-a0f3-941503c6ff80",
   "metadata": {},
   "outputs": [],
   "source": []
  },
  {
   "cell_type": "code",
   "execution_count": null,
   "id": "0d7e91ae-b0e6-4225-a90c-eb43ee1de7bc",
   "metadata": {},
   "outputs": [],
   "source": []
  },
  {
   "cell_type": "code",
   "execution_count": null,
   "id": "a6d04cf9-3e5c-4671-8600-a4a26de4f4fe",
   "metadata": {},
   "outputs": [],
   "source": []
  },
  {
   "cell_type": "code",
   "execution_count": null,
   "id": "43e0c4c1-b055-4bf6-83bd-fae190c79458",
   "metadata": {},
   "outputs": [],
   "source": []
  },
  {
   "cell_type": "code",
   "execution_count": null,
   "id": "9040e3f8-016d-4cc6-92c4-8262f62669dd",
   "metadata": {},
   "outputs": [],
   "source": []
  },
  {
   "cell_type": "code",
   "execution_count": null,
   "id": "2305930f-4161-4501-b905-1dec59b0693e",
   "metadata": {},
   "outputs": [],
   "source": []
  },
  {
   "cell_type": "code",
   "execution_count": null,
   "id": "edf2519f-9231-4e52-a888-379b8a588b52",
   "metadata": {},
   "outputs": [],
   "source": []
  },
  {
   "cell_type": "code",
   "execution_count": null,
   "id": "211afde0-4070-4111-b2b0-3459c8f57f52",
   "metadata": {},
   "outputs": [],
   "source": []
  },
  {
   "cell_type": "code",
   "execution_count": null,
   "id": "e82d6fe4-1c05-4642-ba78-abdd6a04a052",
   "metadata": {},
   "outputs": [],
   "source": []
  },
  {
   "cell_type": "code",
   "execution_count": null,
   "id": "a5e79061-e879-42b0-b2c8-0166cb8a0504",
   "metadata": {},
   "outputs": [],
   "source": []
  },
  {
   "cell_type": "code",
   "execution_count": null,
   "id": "6affd5f7-4904-488d-9d4e-552c002e1d50",
   "metadata": {},
   "outputs": [],
   "source": []
  },
  {
   "cell_type": "code",
   "execution_count": null,
   "id": "ea0a87ae-9de8-46f7-bc12-717ce68f268c",
   "metadata": {},
   "outputs": [],
   "source": []
  }
 ],
 "metadata": {
  "kernelspec": {
   "display_name": "Python 3 (ipykernel)",
   "language": "python",
   "name": "python3"
  },
  "language_info": {
   "codemirror_mode": {
    "name": "ipython",
    "version": 3
   },
   "file_extension": ".py",
   "mimetype": "text/x-python",
   "name": "python",
   "nbconvert_exporter": "python",
   "pygments_lexer": "ipython3",
   "version": "3.9.12"
  }
 },
 "nbformat": 4,
 "nbformat_minor": 5
}
